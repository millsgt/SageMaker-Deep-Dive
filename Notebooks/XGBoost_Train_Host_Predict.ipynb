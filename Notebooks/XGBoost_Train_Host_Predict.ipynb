{
 "cells": [
  {
   "cell_type": "markdown",
   "metadata": {},
   "source": [
    "# SageMaker's XGBoost Built-in Algorithm on AWS"
   ]
  },
  {
   "cell_type": "code",
   "execution_count": 1,
   "metadata": {},
   "outputs": [],
   "source": [
    "# Install SageMaker and boto if you don't already have them\n",
    "#!pip install --upgrade sagemaker\n",
    "#!pip install --upgrade boto3"
   ]
  },
  {
   "cell_type": "markdown",
   "metadata": {},
   "source": [
    "## Remember these four steps:\n",
    "1) Upload Train and Validation files to S3\n",
    "\n",
    "2) Specify Algorithm and Hyperparameters\n",
    "\n",
    "3) Configure type of server and number of servers to use for Training\n",
    "\n",
    "4) Create a real-time Endpoint for interactive use case"
   ]
  },
  {
   "cell_type": "markdown",
   "metadata": {},
   "source": [
    "## Import required libraries"
   ]
  },
  {
   "cell_type": "code",
   "execution_count": 1,
   "metadata": {},
   "outputs": [],
   "source": [
    "# Import required libraries\n",
    "import numpy as np\n",
    "import pandas as pd\n",
    "\n",
    "import boto3\n",
    "import re\n",
    "\n",
    "import sagemaker\n",
    "from sagemaker import get_execution_role\n",
    "# SageMaker SDK Documentation: http://sagemaker.readthedocs.io/en/latest/estimators.html"
   ]
  },
  {
   "cell_type": "code",
   "execution_count": 2,
   "metadata": {},
   "outputs": [
    {
     "data": {
      "text/plain": [
       "'2.42.0'"
      ]
     },
     "execution_count": 2,
     "metadata": {},
     "output_type": "execute_result"
    }
   ],
   "source": [
    "sagemaker.__version__"
   ]
  },
  {
   "cell_type": "markdown",
   "metadata": {},
   "source": [
    "## Upload Data to S3"
   ]
  },
  {
   "cell_type": "code",
   "execution_count": 3,
   "metadata": {},
   "outputs": [],
   "source": [
    "# Make sure you specify your own bucket name\n",
    "bucket_name = 'aws-ml-test-nsadawi'\n",
    "\n",
    "training_folder = r'bikerental/training/'\n",
    "validation_folder = r'bikerental/validation/'\n",
    "test_folder = r'bikerental/test/'\n",
    "\n",
    "s3_model_output_location = r's3://{0}/bikerental/model'.format(bucket_name)\n",
    "s3_training_file_location = r's3://{0}/{1}'.format(bucket_name,training_folder)\n",
    "s3_validation_file_location = r's3://{0}/{1}'.format(bucket_name,validation_folder)\n",
    "s3_test_file_location = r's3://{0}/{1}'.format(bucket_name,test_folder)"
   ]
  },
  {
   "cell_type": "code",
   "execution_count": 4,
   "metadata": {},
   "outputs": [
    {
     "name": "stdout",
     "output_type": "stream",
     "text": [
      "s3://aws-ml-test-nsadawi/bikerental/model\n",
      "s3://aws-ml-test-nsadawi/bikerental/training/\n",
      "s3://aws-ml-test-nsadawi/bikerental/validation/\n",
      "s3://aws-ml-test-nsadawi/bikerental/test/\n"
     ]
    }
   ],
   "source": [
    "print(s3_model_output_location)\n",
    "print(s3_training_file_location)\n",
    "print(s3_validation_file_location)\n",
    "print(s3_test_file_location)"
   ]
  },
  {
   "cell_type": "code",
   "execution_count": 5,
   "metadata": {},
   "outputs": [],
   "source": [
    "# Write and Reading from S3 is just as easy\n",
    "# files are referred as objects in S3.  \n",
    "# file name is referred as key name in S3\n",
    "\n",
    "# File stored in S3 is automatically replicated across 3 different availability zones \n",
    "# in the region where the bucket was created.\n",
    "\n",
    "# http://boto3.readthedocs.io/en/latest/guide/s3.html\n",
    "def write_to_s3(filename, bucket, key):\n",
    "    with open(filename,'rb') as f: # Read in binary mode\n",
    "        return boto3.Session().resource('s3').Bucket(bucket).Object(key).upload_fileobj(f)"
   ]
  },
  {
   "cell_type": "code",
   "execution_count": 6,
   "metadata": {},
   "outputs": [],
   "source": [
    "write_to_s3('../Data/bike_train.csv', \n",
    "            bucket_name,\n",
    "            training_folder + 'bike_train.csv')\n",
    "\n",
    "write_to_s3('../Data/bike_validation.csv',\n",
    "            bucket_name,\n",
    "            validation_folder + 'bike_validation.csv')\n",
    "\n",
    "write_to_s3('../Data/bike_test.csv',\n",
    "            bucket_name,\n",
    "            test_folder + 'bike_test.csv')"
   ]
  },
  {
   "cell_type": "markdown",
   "metadata": {},
   "source": [
    "## Training Algorithm Docker Image\n",
    "### SageMaker maintains a separate image for algorithm and region\n",
    "https://docs.aws.amazon.com/sagemaker/latest/dg/sagemaker-algo-docker-registry-paths.html"
   ]
  },
  {
   "cell_type": "code",
   "execution_count": 7,
   "metadata": {},
   "outputs": [],
   "source": [
    "# Establish a session with AWS\n",
    "sess = sagemaker.Session()"
   ]
  },
  {
   "cell_type": "markdown",
   "metadata": {},
   "source": [
    "#### Important to use an IAM Role\n",
    "https://docs.aws.amazon.com/sagemaker/latest/dg/sagemaker-roles.html"
   ]
  },
  {
   "cell_type": "code",
   "execution_count": 8,
   "metadata": {},
   "outputs": [
    {
     "name": "stderr",
     "output_type": "stream",
     "text": [
      "Couldn't call 'get_role' to get Role ARN from role name noureddin to get Role path.\n"
     ]
    }
   ],
   "source": [
    "try:\n",
    "    role = sagemaker.get_execution_role()\n",
    "except ValueError:\n",
    "    iam = boto3.client('iam')\n",
    "    #arn:aws:iam::479320215787:role/service-role/AmazonSageMaker-ExecutionRole-20210306T134306\n",
    "    role = iam.get_role(RoleName='AmazonSageMaker-ExecutionRole-20210306T134306')['Role']['Arn']"
   ]
  },
  {
   "cell_type": "code",
   "execution_count": 9,
   "metadata": {},
   "outputs": [
    {
     "name": "stdout",
     "output_type": "stream",
     "text": [
      "arn:aws:iam::479320215787:role/service-role/AmazonSageMaker-ExecutionRole-20210306T134306\n"
     ]
    }
   ],
   "source": [
    "# This role contains the permissions needed to train, deploy models\n",
    "# SageMaker Service is trusted to assume this role\n",
    "print(role)"
   ]
  },
  {
   "cell_type": "code",
   "execution_count": 10,
   "metadata": {},
   "outputs": [
    {
     "name": "stdout",
     "output_type": "stream",
     "text": [
      "Using XGBoost Container 683313688378.dkr.ecr.us-east-1.amazonaws.com/sagemaker-xgboost:1.2-1\n"
     ]
    }
   ],
   "source": [
    "# https://sagemaker.readthedocs.io/en/stable/api/utility/image_uris.html#sagemaker.image_uris.retrieve\n",
    "\n",
    "# SDK 2 uses image_uris.retrieve the container image location\n",
    "\n",
    "# Use XGBoost 1.2 version \n",
    "container = sagemaker.image_uris.retrieve(\"xgboost\",sess.boto_region_name,version=\"1.2-1\")\n",
    "\n",
    "print (f'Using XGBoost Container {container}')"
   ]
  },
  {
   "cell_type": "markdown",
   "metadata": {},
   "source": [
    "## Build Model"
   ]
  },
  {
   "cell_type": "code",
   "execution_count": 11,
   "metadata": {},
   "outputs": [],
   "source": [
    "# Configure the training job\n",
    "# Specify type and number of instances to use\n",
    "# S3 location where final artifacts need to be stored\n",
    "\n",
    "#   Reference: http://sagemaker.readthedocs.io/en/latest/estimators.html\n",
    "\n",
    "# SDK 2.x version does not require train prefix for instance count and type\n",
    "estimator = sagemaker.estimator.Estimator(\n",
    "    container,\n",
    "    role,\n",
    "    instance_count=1,\n",
    "    instance_type='ml.m4.xlarge',\n",
    "    output_path=s3_model_output_location,\n",
    "    sagemaker_session=sess,\n",
    "    base_job_name = 'xgboost-bikerental-trainingjob')"
   ]
  },
  {
   "cell_type": "code",
   "execution_count": 12,
   "metadata": {},
   "outputs": [],
   "source": [
    "# Specify hyper parameters that appropriate for the training algorithm\n",
    "# XGBoost Training Parameter Reference\n",
    "#  https://github.com/dmlc/xgboost/blob/master/doc/parameter.rst#learning-task-parameters\n",
    "\n",
    "# TODO: objective xgboost has deprecated reg:linear. use reg:squarederror instead\n",
    "estimator.set_hyperparameters(max_depth=5,\n",
    "                              objective=\"reg:squarederror\",\n",
    "                              eta=0.1,\n",
    "                              num_round=150)"
   ]
  },
  {
   "cell_type": "code",
   "execution_count": 13,
   "metadata": {},
   "outputs": [
    {
     "data": {
      "text/plain": [
       "{'max_depth': 5, 'objective': 'reg:squarederror', 'eta': 0.1, 'num_round': 150}"
      ]
     },
     "execution_count": 13,
     "metadata": {},
     "output_type": "execute_result"
    }
   ],
   "source": [
    "estimator.hyperparameters()"
   ]
  },
  {
   "cell_type": "markdown",
   "metadata": {
    "collapsed": true
   },
   "source": [
    "### Specify Training Data Location and Optionally, Validation Data Location"
   ]
  },
  {
   "cell_type": "code",
   "execution_count": 14,
   "metadata": {},
   "outputs": [],
   "source": [
    "# content type can be libsvm or csv for XGBoost\n",
    "training_input_config = sagemaker.session.TrainingInput(\n",
    "    s3_data=s3_training_file_location,\n",
    "    content_type='csv',\n",
    "    s3_data_type='S3Prefix')\n",
    "\n",
    "validation_input_config = sagemaker.session.TrainingInput(\n",
    "    s3_data=s3_validation_file_location,\n",
    "    content_type='csv',\n",
    "    s3_data_type='S3Prefix'\n",
    ")\n",
    "\n",
    "data_channels = {'train': training_input_config, 'validation': validation_input_config}"
   ]
  },
  {
   "cell_type": "code",
   "execution_count": 15,
   "metadata": {},
   "outputs": [
    {
     "name": "stdout",
     "output_type": "stream",
     "text": [
      "{'DataSource': {'S3DataSource': {'S3DataType': 'S3Prefix', 'S3Uri': 's3://aws-ml-test-nsadawi/bikerental/training/', 'S3DataDistributionType': 'FullyReplicated'}}, 'ContentType': 'csv'}\n",
      "{'DataSource': {'S3DataSource': {'S3DataType': 'S3Prefix', 'S3Uri': 's3://aws-ml-test-nsadawi/bikerental/validation/', 'S3DataDistributionType': 'FullyReplicated'}}, 'ContentType': 'csv'}\n"
     ]
    }
   ],
   "source": [
    "print(training_input_config.config)\n",
    "print(validation_input_config.config)"
   ]
  },
  {
   "cell_type": "markdown",
   "metadata": {},
   "source": [
    "### Train the model (takes a few minutes)"
   ]
  },
  {
   "cell_type": "code",
   "execution_count": 16,
   "metadata": {},
   "outputs": [
    {
     "name": "stdout",
     "output_type": "stream",
     "text": [
      "2022-05-23 10:39:07 Starting - Starting the training job...\n",
      "2022-05-23 10:39:34 Starting - Preparing the instances for trainingProfilerReport-1653302346: InProgress\n",
      ".........\n",
      "2022-05-23 10:41:26 Downloading - Downloading input data...\n",
      "2022-05-23 10:42:07 Training - Downloading the training image......\n",
      "2022-05-23 10:43:14 Training - Training image download completed. Training in progress..\u001b[34m[2022-05-23 10:43:18.555 ip-10-2-139-106.ec2.internal:1 INFO utils.py:27] RULE_JOB_STOP_SIGNAL_FILENAME: None\u001b[0m\n",
      "\u001b[34mINFO:sagemaker-containers:Imported framework sagemaker_xgboost_container.training\u001b[0m\n",
      "\u001b[34mINFO:sagemaker-containers:Failed to parse hyperparameter objective value reg:squarederror to Json.\u001b[0m\n",
      "\u001b[34mReturning the value itself\u001b[0m\n",
      "\u001b[34mINFO:sagemaker-containers:No GPUs detected (normal if no gpus installed)\u001b[0m\n",
      "\u001b[34mINFO:sagemaker_xgboost_container.training:Running XGBoost Sagemaker in algorithm mode\u001b[0m\n",
      "\u001b[34mINFO:root:Determined delimiter of CSV input is ','\u001b[0m\n",
      "\u001b[34mINFO:root:Determined delimiter of CSV input is ','\u001b[0m\n",
      "\u001b[34mINFO:root:Determined delimiter of CSV input is ','\u001b[0m\n",
      "\u001b[34mINFO:root:Determined delimiter of CSV input is ','\u001b[0m\n",
      "\u001b[34mINFO:root:Single node training.\u001b[0m\n",
      "\u001b[34mINFO:root:Train matrix has 7620 rows and 13 columns\u001b[0m\n",
      "\u001b[34mINFO:root:Validation matrix has 3266 rows\u001b[0m\n",
      "\u001b[34m[0]#011train-rmse:3.91103#011validation-rmse:3.89784\u001b[0m\n",
      "\u001b[34m[1]#011train-rmse:3.52983#011validation-rmse:3.51836\u001b[0m\n",
      "\u001b[34m[2]#011train-rmse:3.18828#011validation-rmse:3.17814\u001b[0m\n",
      "\u001b[34m[3]#011train-rmse:2.88143#011validation-rmse:2.87283\u001b[0m\n",
      "\u001b[34m[4]#011train-rmse:2.60614#011validation-rmse:2.59839\u001b[0m\n",
      "\u001b[34m[5]#011train-rmse:2.35743#011validation-rmse:2.35056\u001b[0m\n",
      "\u001b[34m[6]#011train-rmse:2.13471#011validation-rmse:2.12866\u001b[0m\n",
      "\u001b[34m[7]#011train-rmse:1.93609#011validation-rmse:1.93153\u001b[0m\n",
      "\u001b[34m[8]#011train-rmse:1.75743#011validation-rmse:1.75399\u001b[0m\n",
      "\u001b[34m[9]#011train-rmse:1.59799#011validation-rmse:1.59554\u001b[0m\n",
      "\u001b[34m[10]#011train-rmse:1.45353#011validation-rmse:1.45173\u001b[0m\n",
      "\u001b[34m[11]#011train-rmse:1.32599#011validation-rmse:1.32532\u001b[0m\n",
      "\u001b[34m[12]#011train-rmse:1.21101#011validation-rmse:1.21159\u001b[0m\n",
      "\u001b[34m[13]#011train-rmse:1.10845#011validation-rmse:1.10938\u001b[0m\n",
      "\u001b[34m[14]#011train-rmse:1.01776#011validation-rmse:1.01960\u001b[0m\n",
      "\u001b[34m[15]#011train-rmse:0.93340#011validation-rmse:0.93602\u001b[0m\n",
      "\u001b[34m[16]#011train-rmse:0.85679#011validation-rmse:0.86056\u001b[0m\n",
      "\u001b[34m[17]#011train-rmse:0.79345#011validation-rmse:0.79866\u001b[0m\n",
      "\u001b[34m[18]#011train-rmse:0.73601#011validation-rmse:0.74206\u001b[0m\n",
      "\u001b[34m[19]#011train-rmse:0.68721#011validation-rmse:0.69447\u001b[0m\n",
      "\u001b[34m[20]#011train-rmse:0.64431#011validation-rmse:0.65258\u001b[0m\n",
      "\u001b[34m[21]#011train-rmse:0.60361#011validation-rmse:0.61302\u001b[0m\n",
      "\u001b[34m[22]#011train-rmse:0.56974#011validation-rmse:0.58003\u001b[0m\n",
      "\u001b[34m[23]#011train-rmse:0.54040#011validation-rmse:0.55160\u001b[0m\n",
      "\u001b[34m[24]#011train-rmse:0.51138#011validation-rmse:0.52363\u001b[0m\n",
      "\u001b[34m[25]#011train-rmse:0.48535#011validation-rmse:0.49783\u001b[0m\n",
      "\u001b[34m[26]#011train-rmse:0.46593#011validation-rmse:0.47923\u001b[0m\n",
      "\u001b[34m[27]#011train-rmse:0.44903#011validation-rmse:0.46310\u001b[0m\n",
      "\u001b[34m[28]#011train-rmse:0.43116#011validation-rmse:0.44656\u001b[0m\n",
      "\u001b[34m[29]#011train-rmse:0.41839#011validation-rmse:0.43441\u001b[0m\n",
      "\u001b[34m[30]#011train-rmse:0.40707#011validation-rmse:0.42431\u001b[0m\n",
      "\u001b[34m[31]#011train-rmse:0.39139#011validation-rmse:0.40980\u001b[0m\n",
      "\u001b[34m[32]#011train-rmse:0.38148#011validation-rmse:0.40076\u001b[0m\n",
      "\u001b[34m[33]#011train-rmse:0.37242#011validation-rmse:0.39263\u001b[0m\n",
      "\u001b[34m[34]#011train-rmse:0.36608#011validation-rmse:0.38690\u001b[0m\n",
      "\u001b[34m[35]#011train-rmse:0.35915#011validation-rmse:0.38065\u001b[0m\n",
      "\u001b[34m[36]#011train-rmse:0.35275#011validation-rmse:0.37470\u001b[0m\n",
      "\u001b[34m[37]#011train-rmse:0.34788#011validation-rmse:0.37025\u001b[0m\n",
      "\u001b[34m[38]#011train-rmse:0.34444#011validation-rmse:0.36748\u001b[0m\n",
      "\u001b[34m[39]#011train-rmse:0.34076#011validation-rmse:0.36403\u001b[0m\n",
      "\u001b[34m[40]#011train-rmse:0.33599#011validation-rmse:0.35960\u001b[0m\n",
      "\u001b[34m[41]#011train-rmse:0.33211#011validation-rmse:0.35640\u001b[0m\n",
      "\u001b[34m[42]#011train-rmse:0.32555#011validation-rmse:0.35077\u001b[0m\n",
      "\u001b[34m[43]#011train-rmse:0.32324#011validation-rmse:0.34909\u001b[0m\n",
      "\u001b[34m[44]#011train-rmse:0.31757#011validation-rmse:0.34376\u001b[0m\n",
      "\u001b[34m[45]#011train-rmse:0.31566#011validation-rmse:0.34273\u001b[0m\n",
      "\u001b[34m[46]#011train-rmse:0.31172#011validation-rmse:0.33891\u001b[0m\n",
      "\u001b[34m[47]#011train-rmse:0.30994#011validation-rmse:0.33779\u001b[0m\n",
      "\u001b[34m[48]#011train-rmse:0.30675#011validation-rmse:0.33470\u001b[0m\n",
      "\u001b[34m[49]#011train-rmse:0.30367#011validation-rmse:0.33233\u001b[0m\n",
      "\u001b[34m[50]#011train-rmse:0.30213#011validation-rmse:0.33129\u001b[0m\n",
      "\u001b[34m[51]#011train-rmse:0.30106#011validation-rmse:0.33060\u001b[0m\n",
      "\u001b[34m[52]#011train-rmse:0.29994#011validation-rmse:0.33004\u001b[0m\n",
      "\u001b[34m[53]#011train-rmse:0.29680#011validation-rmse:0.32721\u001b[0m\n",
      "\u001b[34m[54]#011train-rmse:0.29565#011validation-rmse:0.32650\u001b[0m\n",
      "\u001b[34m[55]#011train-rmse:0.29377#011validation-rmse:0.32540\u001b[0m\n",
      "\u001b[34m[56]#011train-rmse:0.29127#011validation-rmse:0.32311\u001b[0m\n",
      "\u001b[34m[57]#011train-rmse:0.28952#011validation-rmse:0.32174\u001b[0m\n",
      "\u001b[34m[58]#011train-rmse:0.28858#011validation-rmse:0.32127\u001b[0m\n",
      "\u001b[34m[59]#011train-rmse:0.28787#011validation-rmse:0.32087\u001b[0m\n",
      "\u001b[34m[60]#011train-rmse:0.28704#011validation-rmse:0.32036\u001b[0m\n",
      "\u001b[34m[61]#011train-rmse:0.28490#011validation-rmse:0.31828\u001b[0m\n",
      "\u001b[34m[62]#011train-rmse:0.28427#011validation-rmse:0.31783\u001b[0m\n",
      "\u001b[34m[63]#011train-rmse:0.28181#011validation-rmse:0.31588\u001b[0m\n",
      "\u001b[34m[64]#011train-rmse:0.28077#011validation-rmse:0.31522\u001b[0m\n",
      "\u001b[34m[65]#011train-rmse:0.27944#011validation-rmse:0.31422\u001b[0m\n",
      "\u001b[34m[66]#011train-rmse:0.27838#011validation-rmse:0.31343\u001b[0m\n",
      "\u001b[34m[67]#011train-rmse:0.27762#011validation-rmse:0.31314\u001b[0m\n",
      "\u001b[34m[68]#011train-rmse:0.27685#011validation-rmse:0.31275\u001b[0m\n",
      "\u001b[34m[69]#011train-rmse:0.27609#011validation-rmse:0.31202\u001b[0m\n",
      "\u001b[34m[70]#011train-rmse:0.27535#011validation-rmse:0.31164\u001b[0m\n",
      "\u001b[34m[71]#011train-rmse:0.27349#011validation-rmse:0.31012\u001b[0m\n",
      "\u001b[34m[72]#011train-rmse:0.27286#011validation-rmse:0.31003\u001b[0m\n",
      "\u001b[34m[73]#011train-rmse:0.27175#011validation-rmse:0.30938\u001b[0m\n",
      "\u001b[34m[74]#011train-rmse:0.27114#011validation-rmse:0.30921\u001b[0m\n",
      "\u001b[34m[75]#011train-rmse:0.26951#011validation-rmse:0.30768\u001b[0m\n",
      "\u001b[34m[76]#011train-rmse:0.26915#011validation-rmse:0.30750\u001b[0m\n",
      "\u001b[34m[77]#011train-rmse:0.26858#011validation-rmse:0.30719\u001b[0m\n",
      "\u001b[34m[78]#011train-rmse:0.26787#011validation-rmse:0.30682\u001b[0m\n",
      "\u001b[34m[79]#011train-rmse:0.26724#011validation-rmse:0.30666\u001b[0m\n",
      "\u001b[34m[80]#011train-rmse:0.26584#011validation-rmse:0.30572\u001b[0m\n",
      "\u001b[34m[81]#011train-rmse:0.26424#011validation-rmse:0.30434\u001b[0m\n",
      "\u001b[34m[82]#011train-rmse:0.26244#011validation-rmse:0.30276\u001b[0m\n",
      "\u001b[34m[83]#011train-rmse:0.26207#011validation-rmse:0.30244\u001b[0m\n",
      "\u001b[34m[84]#011train-rmse:0.26113#011validation-rmse:0.30194\u001b[0m\n",
      "\u001b[34m[85]#011train-rmse:0.26094#011validation-rmse:0.30177\u001b[0m\n",
      "\u001b[34m[86]#011train-rmse:0.26064#011validation-rmse:0.30158\u001b[0m\n",
      "\u001b[34m[87]#011train-rmse:0.25988#011validation-rmse:0.30125\u001b[0m\n",
      "\u001b[34m[88]#011train-rmse:0.25962#011validation-rmse:0.30116\u001b[0m\n",
      "\u001b[34m[89]#011train-rmse:0.25926#011validation-rmse:0.30087\u001b[0m\n",
      "\u001b[34m[90]#011train-rmse:0.25886#011validation-rmse:0.30064\u001b[0m\n",
      "\u001b[34m[91]#011train-rmse:0.25873#011validation-rmse:0.30055\u001b[0m\n",
      "\u001b[34m[92]#011train-rmse:0.25798#011validation-rmse:0.30004\u001b[0m\n",
      "\u001b[34m[93]#011train-rmse:0.25767#011validation-rmse:0.29990\u001b[0m\n",
      "\u001b[34m[94]#011train-rmse:0.25749#011validation-rmse:0.29983\u001b[0m\n",
      "\u001b[34m[95]#011train-rmse:0.25693#011validation-rmse:0.29960\u001b[0m\n",
      "\u001b[34m[96]#011train-rmse:0.25620#011validation-rmse:0.29943\u001b[0m\n",
      "\u001b[34m[97]#011train-rmse:0.25574#011validation-rmse:0.29910\u001b[0m\n",
      "\u001b[34m[98]#011train-rmse:0.25484#011validation-rmse:0.29852\u001b[0m\n",
      "\u001b[34m[99]#011train-rmse:0.25451#011validation-rmse:0.29851\u001b[0m\n",
      "\u001b[34m[100]#011train-rmse:0.25398#011validation-rmse:0.29832\u001b[0m\n",
      "\u001b[34m[101]#011train-rmse:0.25221#011validation-rmse:0.29671\u001b[0m\n",
      "\u001b[34m[102]#011train-rmse:0.25173#011validation-rmse:0.29647\u001b[0m\n",
      "\u001b[34m[103]#011train-rmse:0.25101#011validation-rmse:0.29614\u001b[0m\n",
      "\u001b[34m[104]#011train-rmse:0.25083#011validation-rmse:0.29607\u001b[0m\n",
      "\u001b[34m[105]#011train-rmse:0.25055#011validation-rmse:0.29607\u001b[0m\n",
      "\u001b[34m[106]#011train-rmse:0.24995#011validation-rmse:0.29599\u001b[0m\n",
      "\u001b[34m[107]#011train-rmse:0.24955#011validation-rmse:0.29590\u001b[0m\n",
      "\u001b[34m[108]#011train-rmse:0.24864#011validation-rmse:0.29550\u001b[0m\n",
      "\u001b[34m[109]#011train-rmse:0.24812#011validation-rmse:0.29521\u001b[0m\n",
      "\u001b[34m[110]#011train-rmse:0.24754#011validation-rmse:0.29520\u001b[0m\n",
      "\u001b[34m[111]#011train-rmse:0.24732#011validation-rmse:0.29511\u001b[0m\n",
      "\u001b[34m[112]#011train-rmse:0.24684#011validation-rmse:0.29502\u001b[0m\n",
      "\u001b[34m[113]#011train-rmse:0.24651#011validation-rmse:0.29488\u001b[0m\n",
      "\u001b[34m[114]#011train-rmse:0.24629#011validation-rmse:0.29477\u001b[0m\n",
      "\u001b[34m[115]#011train-rmse:0.24567#011validation-rmse:0.29449\u001b[0m\n",
      "\u001b[34m[116]#011train-rmse:0.24532#011validation-rmse:0.29438\u001b[0m\n",
      "\u001b[34m[117]#011train-rmse:0.24455#011validation-rmse:0.29386\u001b[0m\n",
      "\u001b[34m[118]#011train-rmse:0.24427#011validation-rmse:0.29386\u001b[0m\n",
      "\u001b[34m[119]#011train-rmse:0.24383#011validation-rmse:0.29376\u001b[0m\n",
      "\u001b[34m[120]#011train-rmse:0.24350#011validation-rmse:0.29367\u001b[0m\n",
      "\u001b[34m[121]#011train-rmse:0.24265#011validation-rmse:0.29280\u001b[0m\n",
      "\u001b[34m[122]#011train-rmse:0.24210#011validation-rmse:0.29250\u001b[0m\n",
      "\u001b[34m[123]#011train-rmse:0.24173#011validation-rmse:0.29252\u001b[0m\n",
      "\u001b[34m[124]#011train-rmse:0.24158#011validation-rmse:0.29242\u001b[0m\n",
      "\u001b[34m[125]#011train-rmse:0.24110#011validation-rmse:0.29201\u001b[0m\n",
      "\u001b[34m[126]#011train-rmse:0.24054#011validation-rmse:0.29178\u001b[0m\n",
      "\u001b[34m[127]#011train-rmse:0.24017#011validation-rmse:0.29173\u001b[0m\n",
      "\u001b[34m[128]#011train-rmse:0.24002#011validation-rmse:0.29164\u001b[0m\n",
      "\u001b[34m[129]#011train-rmse:0.23989#011validation-rmse:0.29161\u001b[0m\n",
      "\u001b[34m[130]#011train-rmse:0.23961#011validation-rmse:0.29159\u001b[0m\n",
      "\u001b[34m[131]#011train-rmse:0.23934#011validation-rmse:0.29160\u001b[0m\n",
      "\u001b[34m[132]#011train-rmse:0.23879#011validation-rmse:0.29139\u001b[0m\n",
      "\u001b[34m[133]#011train-rmse:0.23869#011validation-rmse:0.29130\u001b[0m\n",
      "\u001b[34m[134]#011train-rmse:0.23841#011validation-rmse:0.29134\u001b[0m\n",
      "\u001b[34m[135]#011train-rmse:0.23799#011validation-rmse:0.29118\u001b[0m\n",
      "\u001b[34m[136]#011train-rmse:0.23767#011validation-rmse:0.29098\u001b[0m\n",
      "\u001b[34m[137]#011train-rmse:0.23730#011validation-rmse:0.29085\u001b[0m\n",
      "\u001b[34m[138]#011train-rmse:0.23711#011validation-rmse:0.29094\u001b[0m\n",
      "\u001b[34m[139]#011train-rmse:0.23626#011validation-rmse:0.29018\u001b[0m\n",
      "\u001b[34m[140]#011train-rmse:0.23610#011validation-rmse:0.29005\u001b[0m\n",
      "\u001b[34m[141]#011train-rmse:0.23592#011validation-rmse:0.29008\u001b[0m\n",
      "\u001b[34m[142]#011train-rmse:0.23566#011validation-rmse:0.29010\u001b[0m\n",
      "\u001b[34m[143]#011train-rmse:0.23493#011validation-rmse:0.28940\u001b[0m\n",
      "\u001b[34m[144]#011train-rmse:0.23456#011validation-rmse:0.28911\u001b[0m\n",
      "\u001b[34m[145]#011train-rmse:0.23441#011validation-rmse:0.28903\u001b[0m\n",
      "\u001b[34m[146]#011train-rmse:0.23402#011validation-rmse:0.28877\u001b[0m\n",
      "\u001b[34m[147]#011train-rmse:0.23369#011validation-rmse:0.28874\u001b[0m\n",
      "\u001b[34m[148]#011train-rmse:0.23341#011validation-rmse:0.28880\u001b[0m\n",
      "\u001b[34m[149]#011train-rmse:0.23332#011validation-rmse:0.28880\u001b[0m\n"
     ]
    },
    {
     "name": "stdout",
     "output_type": "stream",
     "text": [
      "\n",
      "2022-05-23 10:43:47 Uploading - Uploading generated training model\n",
      "2022-05-23 10:43:47 Completed - Training job completed\n",
      "Training seconds: 142\n",
      "Billable seconds: 142\n",
      "CPU times: user 1.1 s, sys: 134 ms, total: 1.23 s\n",
      "Wall time: 5min 8s\n"
     ]
    }
   ],
   "source": [
    "%%time\n",
    "# XGBoost supports \"train\", \"validation\" channels\n",
    "# Reference: Supported channels by algorithm\n",
    "#   https://docs.aws.amazon.com/sagemaker/latest/dg/sagemaker-algo-docker-registry-paths.html\n",
    "estimator.fit(data_channels)"
   ]
  },
  {
   "cell_type": "markdown",
   "metadata": {},
   "source": [
    "## Deploy Model (takes a few minutes)"
   ]
  },
  {
   "cell_type": "code",
   "execution_count": 17,
   "metadata": {},
   "outputs": [
    {
     "name": "stdout",
     "output_type": "stream",
     "text": [
      "-------!CPU times: user 293 ms, sys: 46.3 ms, total: 340 ms\n",
      "Wall time: 3min 38s\n"
     ]
    }
   ],
   "source": [
    "%%time\n",
    "# Ref: http://sagemaker.readthedocs.io/en/latest/estimators.html\n",
    "predictor = estimator.deploy(initial_instance_count=1,\n",
    "                             instance_type='ml.m4.xlarge',\n",
    "                             endpoint_name = 'xgboost-may22')"
   ]
  },
  {
   "cell_type": "markdown",
   "metadata": {
    "collapsed": true
   },
   "source": [
    "## Make Predictions"
   ]
  },
  {
   "cell_type": "code",
   "execution_count": 18,
   "metadata": {},
   "outputs": [],
   "source": [
    "# SDK 2.0 serializers\n",
    "from sagemaker.serializers import CSVSerializer"
   ]
  },
  {
   "cell_type": "code",
   "execution_count": 19,
   "metadata": {},
   "outputs": [],
   "source": [
    "predictor.serializer = CSVSerializer()"
   ]
  },
  {
   "cell_type": "code",
   "execution_count": 20,
   "metadata": {},
   "outputs": [
    {
     "data": {
      "text/plain": [
       "b'3.7716636657714844'"
      ]
     },
     "execution_count": 20,
     "metadata": {},
     "output_type": "execute_result"
    }
   ],
   "source": [
    "predictor.predict([[3,0,1,2,28.7,33.335,79,12.998,2011,7,7,3]])"
   ]
  },
  {
   "cell_type": "markdown",
   "metadata": {
    "collapsed": true
   },
   "source": [
    "## Summary"
   ]
  },
  {
   "cell_type": "markdown",
   "metadata": {},
   "source": [
    "1. Ensure Training, Test and Validation data are in S3 Bucket\n",
    "2. Select Algorithm Container Registry Path - Path varies by region\n",
    "3. Configure Estimator for training - Specify Algorithm container, instance count, instance type, model output location\n",
    "4. Specify algorithm specific hyper parameters\n",
    "5. Train model\n",
    "6. Deploy model - Specify instance count, instance type and endpoint name\n",
    "7. Make Predictions"
   ]
  },
  {
   "cell_type": "markdown",
   "metadata": {},
   "source": [
    "## What if the Endpoint is Already Up and Running?"
   ]
  },
  {
   "cell_type": "code",
   "execution_count": null,
   "metadata": {},
   "outputs": [],
   "source": []
  }
 ],
 "metadata": {
  "kernelspec": {
   "display_name": "Python 3",
   "language": "python",
   "name": "python3"
  },
  "language_info": {
   "codemirror_mode": {
    "name": "ipython",
    "version": 3
   },
   "file_extension": ".py",
   "mimetype": "text/x-python",
   "name": "python",
   "nbconvert_exporter": "python",
   "pygments_lexer": "ipython3",
   "version": "3.7.6"
  }
 },
 "nbformat": 4,
 "nbformat_minor": 2
}
